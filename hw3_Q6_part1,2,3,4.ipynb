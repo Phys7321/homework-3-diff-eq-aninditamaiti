{
 "cells": [
  {
   "cell_type": "code",
   "execution_count": 1,
   "metadata": {
    "scrolled": false
   },
   "outputs": [
    {
     "name": "stdout",
     "output_type": "stream",
     "text": [
      "r = 0.05105513955071475\n"
     ]
    },
    {
     "data": {
      "image/png": "[encoded data removed]",
      "text/plain": [
       "<Figure size 432x288 with 1 Axes>"
      ]
     },
     "metadata": {
      "needs_background": "light"
     },
     "output_type": "display_data"
    }
   ],
   "source": [
    "%matplotlib inline\n",
    "\n",
    "import numpy as np\n",
    "from matplotlib import pyplot\n",
    "import matplotlib.animation as animation\n",
    "from JSAnimation.IPython_display import display_animation\n",
    "\n",
    "# Q1 & Q2. iron bar\n",
    " \n",
    "K = 0.12\n",
    "c = 0.113\n",
    "rho = 7.8\n",
    "alpha = K/c/rho\n",
    "\n",
    "l = 50    #length of the bar\n",
    "dx = 0.2  # space step\n",
    "nx = int(l/dx)  # number of points in space\n",
    "x = np.arange(0,l+dx,dx) # the +1 is necessary to store the value at l\n",
    "dt = 0.015\n",
    "C = dx**2/dt\n",
    "r = alpha/C\n",
    "\n",
    "\n",
    "\n",
    "print(\"r =\",r)\n",
    "\n",
    "t0 = np.zeros(nx+1)\n",
    "t1 = np.zeros(nx+1) # these arrays will contain the new displacements at t, and t+delta\n",
    "\n",
    "\n",
    "#Initial conditions\n",
    "t0[:] = 100.\n",
    "t0[0] = 0.\n",
    "t0[nx] = 0.\n",
    "\n",
    "fig = pyplot.figure()\n",
    "ax = pyplot.axes(xlim=(0, l), ylim=(0, 120), xlabel='x', ylabel='T')\n",
    "points, = ax.plot([], [], marker='', linestyle='-', lw=3)\n",
    "\n",
    "def evolve(i):\n",
    "    global t0, t1\n",
    "\n",
    "    for ix in range(1,nx):\n",
    "        t1[ix] = t0[ix] + r*(t0[ix+1]+t0[ix-1]-2*t0[ix])  \n",
    "\n",
    "    points.set_data(x, t0)\n",
    "\n",
    "    for ix in range(nx):\n",
    "        t0[ix] = t1[ix]\n",
    "\n",
    "    return points\n",
    "\n",
    "anim = animation.FuncAnimation(fig, evolve, frames = 4000, interval=10)\n",
    "\n",
    "#display_animation(anim, default_mode='once')\n",
    "\n",
    "# comment - the file with active display_animation command is too large to upload in gihub currently. Hence it has been commented."
   ]
  },
  {
   "cell_type": "code",
   "execution_count": 2,
   "metadata": {
    "scrolled": false
   },
   "outputs": [
    {
     "name": "stdout",
     "output_type": "stream",
     "text": [
      "r = 0.31362007168458766\n"
     ]
    },
    {
     "data": {
      "image/png": "[encoded data removed]",
      "text/plain": [
       "<Figure size 432x288 with 1 Axes>"
      ]
     },
     "metadata": {
      "needs_background": "light"
     },
     "output_type": "display_data"
    }
   ],
   "source": [
    "# Q3. aluminium bar\n",
    "\n",
    "K = 0.49\n",
    "c = 0.217\n",
    "rho = 2.7\n",
    "alpha = K/c/rho\n",
    "\n",
    "l = 50    #length of the bar\n",
    "dx = 0.2  # space step\n",
    "nx = int(l/dx)  # number of points in space\n",
    "x = np.arange(0,l+dx,dx) # the +1 is necessary to store the value at l\n",
    "dt = 0.015\n",
    "C = dx**2/dt\n",
    "r = alpha/C\n",
    "\n",
    "print(\"r =\", r)\n",
    "\n",
    "t0 = np.zeros(nx+1)\n",
    "t1 = np.zeros(nx+1) # these arrays will contain the new displacements at t, and t+delta\n",
    "\n",
    "\n",
    "#Initial conditions\n",
    "t0[:] = 100.\n",
    "t0[0] = 0.\n",
    "t0[nx] = 0.\n",
    "\n",
    "fig2 = pyplot.figure()\n",
    "ax2 = pyplot.axes(xlim=(0, l), ylim=(0, 120), xlabel='x', ylabel='T')\n",
    "points, = ax2.plot([], [], marker='', linestyle='-', lw=3)\n",
    "\n",
    "def evolve(i):\n",
    "    global t0, t1\n",
    "\n",
    "    for ix in range(1,nx):\n",
    "        t1[ix] = t0[ix] + r*(t0[ix+1]+t0[ix-1]-2*t0[ix])  \n",
    "\n",
    "    points.set_data(x, t0)\n",
    "\n",
    "    for ix in range(nx):\n",
    "        t0[ix] = t1[ix]\n",
    "\n",
    "    return points\n",
    "\n",
    "\n",
    "anim2 = animation.FuncAnimation(fig2, evolve, frames = 4000, interval=10)\n",
    "\n",
    "#display_animation(anim2, default_mode='once')\n",
    "\n",
    "# comment - the file with active display_animation command is too large to upload in gihub currently. Hence it has been commented."
   ]
  },
  {
   "cell_type": "code",
   "execution_count": 3,
   "metadata": {
    "scrolled": false
   },
   "outputs": [
    {
     "name": "stdout",
     "output_type": "stream",
     "text": [
      "From above 2 animations for the same cooling time = 60.0 most part of Aluminium is at T<100 degree C, but most part of Iron bar is still at T=100 degree C \n",
      "So Aluminium cools faster\n"
     ]
    }
   ],
   "source": [
    "# Q4.\n",
    "duration = dt*4000\n",
    "print(\"From above 2 animations for the same cooling time =\", duration, \"most part of Aluminium is at T<100 degree C, but most part of Iron bar is still at T=100 degree C \")\n",
    "print(\"So Aluminium cools faster\")"
   ]
  },
  {
   "cell_type": "code",
   "execution_count": null,
   "metadata": {
    "scrolled": false
   },
   "outputs": [],
   "source": []
  }
 ],
 "metadata": {
  "kernelspec": {
   "display_name": "Python 3",
   "language": "python",
   "name": "python3"
  },
  "language_info": {
   "codemirror_mode": {
    "name": "ipython",
    "version": 3
   },
   "file_extension": ".py",
   "mimetype": "text/x-python",
   "name": "python",
   "nbconvert_exporter": "python",
   "pygments_lexer": "ipython3",
   "version": "3.6.6"
  }
 },
 "nbformat": 4,
 "nbformat_minor": 2
}
